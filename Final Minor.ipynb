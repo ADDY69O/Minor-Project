{
 "cells": [
  {
   "cell_type": "markdown",
   "id": "3654a562",
   "metadata": {},
   "source": [
    "# Importing Libraries"
   ]
  },
  {
   "cell_type": "code",
   "execution_count": 4,
   "id": "9999166d",
   "metadata": {},
   "outputs": [],
   "source": [
    "import pandas as pd\n",
    "import numpy as np\n",
    "import matplotlib.pyplot as plt\n",
    "from sklearn.impute import SimpleImputer\n",
    "from sklearn.preprocessing import OneHotEncoder, LabelEncoder\n",
    "import tensorflow as tf\n",
    "from tensorflow.keras import Model\n",
    "from tensorflow.keras import Sequential\n",
    "from tensorflow.keras.optimizers import Adam\n",
    "from sklearn.preprocessing import StandardScaler\n",
    "from tensorflow.keras.layers import Dense, Dropout"
   ]
  },
  {
   "cell_type": "code",
   "execution_count": 5,
   "id": "8da78724",
   "metadata": {},
   "outputs": [],
   "source": [
    "df = pd.read_csv('Final Dataset')"
   ]
  },
  {
   "cell_type": "code",
   "execution_count": 6,
   "id": "34480d83",
   "metadata": {},
   "outputs": [],
   "source": [
    "df.drop(columns=['Unnamed: 0.1', 'Unnamed: 0'], inplace=True)"
   ]
  },
  {
   "cell_type": "markdown",
   "id": "7b92640e",
   "metadata": {},
   "source": [
    "# Normalising the data"
   ]
  },
  {
   "cell_type": "code",
   "execution_count": 7,
   "id": "a15e5626",
   "metadata": {},
   "outputs": [
    {
     "data": {
      "text/html": [
       "<div>\n",
       "<style scoped>\n",
       "    .dataframe tbody tr th:only-of-type {\n",
       "        vertical-align: middle;\n",
       "    }\n",
       "\n",
       "    .dataframe tbody tr th {\n",
       "        vertical-align: top;\n",
       "    }\n",
       "\n",
       "    .dataframe thead th {\n",
       "        text-align: right;\n",
       "    }\n",
       "</style>\n",
       "<table border=\"1\" class=\"dataframe\">\n",
       "  <thead>\n",
       "    <tr style=\"text-align: right;\">\n",
       "      <th></th>\n",
       "      <th>Budget Forecast</th>\n",
       "      <th>Total Budget Changes</th>\n",
       "      <th>Total Schedule Changes</th>\n",
       "      <th>Description Embedding</th>\n",
       "    </tr>\n",
       "  </thead>\n",
       "  <tbody>\n",
       "    <tr>\n",
       "      <th>0</th>\n",
       "      <td>0.999906</td>\n",
       "      <td>0.013741</td>\n",
       "      <td>1.084248e-05</td>\n",
       "      <td>-1.644953e-10</td>\n",
       "    </tr>\n",
       "    <tr>\n",
       "      <th>1</th>\n",
       "      <td>1.000000</td>\n",
       "      <td>-0.000717</td>\n",
       "      <td>0.000000e+00</td>\n",
       "      <td>-1.370162e-10</td>\n",
       "    </tr>\n",
       "    <tr>\n",
       "      <th>2</th>\n",
       "      <td>0.999979</td>\n",
       "      <td>0.006505</td>\n",
       "      <td>2.355953e-06</td>\n",
       "      <td>-3.448000e-11</td>\n",
       "    </tr>\n",
       "    <tr>\n",
       "      <th>3</th>\n",
       "      <td>0.999930</td>\n",
       "      <td>0.011812</td>\n",
       "      <td>1.151342e-06</td>\n",
       "      <td>-2.733733e-11</td>\n",
       "    </tr>\n",
       "    <tr>\n",
       "      <th>4</th>\n",
       "      <td>0.970381</td>\n",
       "      <td>0.241581</td>\n",
       "      <td>5.114135e-07</td>\n",
       "      <td>-6.248411e-11</td>\n",
       "    </tr>\n",
       "  </tbody>\n",
       "</table>\n",
       "</div>"
      ],
      "text/plain": [
       "   Budget Forecast  Total Budget Changes  Total Schedule Changes  \\\n",
       "0         0.999906              0.013741            1.084248e-05   \n",
       "1         1.000000             -0.000717            0.000000e+00   \n",
       "2         0.999979              0.006505            2.355953e-06   \n",
       "3         0.999930              0.011812            1.151342e-06   \n",
       "4         0.970381              0.241581            5.114135e-07   \n",
       "\n",
       "   Description Embedding  \n",
       "0          -1.644953e-10  \n",
       "1          -1.370162e-10  \n",
       "2          -3.448000e-11  \n",
       "3          -2.733733e-11  \n",
       "4          -6.248411e-11  "
      ]
     },
     "execution_count": 7,
     "metadata": {},
     "output_type": "execute_result"
    }
   ],
   "source": [
    "from sklearn.preprocessing import Normalizer\n",
    "norm = Normalizer()\n",
    "df = norm.fit_transform(df)\n",
    "df = pd.DataFrame(df, columns= ['Budget Forecast', 'Total Budget Changes', 'Total Schedule Changes', 'Description Embedding'])\n",
    "df.head()"
   ]
  },
  {
   "cell_type": "markdown",
   "id": "9fe507bd",
   "metadata": {},
   "source": [
    "# Splitting the data into train n testing data"
   ]
  },
  {
   "cell_type": "code",
   "execution_count": 8,
   "id": "614deebb",
   "metadata": {},
   "outputs": [],
   "source": [
    "x = df.drop(columns = 'Budget Forecast')\n",
    "y = df['Budget Forecast']"
   ]
  },
  {
   "cell_type": "code",
   "execution_count": 9,
   "id": "3ac01d44",
   "metadata": {},
   "outputs": [
    {
     "name": "stdout",
     "output_type": "stream",
     "text": [
      "(2846, 3)\n",
      "(2846,)\n"
     ]
    },
    {
     "data": {
      "text/plain": [
       "(None, None)"
      ]
     },
     "execution_count": 9,
     "metadata": {},
     "output_type": "execute_result"
    }
   ],
   "source": [
    "print(x.shape), print(y.shape)"
   ]
  },
  {
   "cell_type": "code",
   "execution_count": 10,
   "id": "11d3c5af",
   "metadata": {},
   "outputs": [
    {
     "name": "stdout",
     "output_type": "stream",
     "text": [
      "(2846, 1)\n"
     ]
    }
   ],
   "source": [
    "y = np.reshape(y, (-1,1))\n",
    "print(y.shape)"
   ]
  },
  {
   "cell_type": "code",
   "execution_count": 11,
   "id": "2ea56368",
   "metadata": {},
   "outputs": [],
   "source": [
    "from sklearn.model_selection import train_test_split \n",
    "X_train, X_test, y_train, y_test = train_test_split(x,y ,\n",
    "                                   random_state=104, \n",
    "                                   test_size=0.3, \n",
    "                                   shuffle=True)"
   ]
  },
  {
   "cell_type": "code",
   "execution_count": 12,
   "id": "c65d9a72",
   "metadata": {},
   "outputs": [],
   "source": [
    "#Test size is 30% "
   ]
  },
  {
   "cell_type": "code",
   "execution_count": 115,
   "id": "6c3daab2",
   "metadata": {},
   "outputs": [],
   "source": [
    "from sklearn.linear_model import LinearRegression\n",
    "from sklearn.neighbors import KNeighborsRegressor\n",
    "from sklearn.tree import DecisionTreeRegressor\n",
    "from sklearn.svm import SVR\n",
    "from sklearn.ensemble import RandomForestRegressor\n",
    "from sklearn.ensemble import ExtraTreesRegressor\n",
    "from sklearn.metrics import mean_absolute_error, mean_squared_error,r2_score\n",
    "from xgboost import XGBRegressor\n",
    "\n",
    "lr = LinearRegression()\n",
    "knn = KNeighborsRegressor(n_neighbors=3)\n",
    "dt = DecisionTreeRegressor(min_samples_leaf=3)\n",
    "svr = SVR(degree=3, kernel='rbf', gamma='auto', epsilon=0.2)\n",
    "rf = RandomForestRegressor()\n",
    "\n",
    "xgb = XGBRegressor(n_estimators=45)\n",
    "etr = ExtraTreesRegressor(n_estimators=50, random_state=2)"
   ]
  },
  {
   "cell_type": "markdown",
   "id": "27615376",
   "metadata": {},
   "source": [
    "# Fitting training data into each model"
   ]
  },
  {
   "cell_type": "code",
   "execution_count": 118,
   "id": "336f0dbf",
   "metadata": {},
   "outputs": [],
   "source": [
    "# Using ML aglorithms:\n",
    "\n",
    "#Linear Regression\n",
    "#K Nearest neighbours\n",
    "#Decision Tree\n",
    "#Support Vector Machine\n",
    "#Random Forest\n",
    "#Artificial Neural Network\n",
    "#XG Boost\n",
    "# Extra tree regressor"
   ]
  },
  {
   "cell_type": "code",
   "execution_count": 109,
   "id": "7c9d9932",
   "metadata": {},
   "outputs": [],
   "source": [
    "# Metrics used:\n",
    "# Mean Squared Error\n",
    "# Mean absolute error\n",
    "# R2 Score"
   ]
  },
  {
   "cell_type": "code",
   "execution_count": 99,
   "id": "daee6370",
   "metadata": {
    "scrolled": true
   },
   "outputs": [
    {
     "name": "stdout",
     "output_type": "stream",
     "text": [
      "MAE for LinearRegression() is 0.07075044495763338\n",
      "MSE for LinearRegression() is 0.018410939555956924\n",
      "R2 Score for LinearRegression() is 0.10490373681657006\n",
      "\n",
      "\n",
      "MAE for KNeighborsRegressor(n_neighbors=3) is 0.0007480562762510897\n",
      "MSE for KNeighborsRegressor(n_neighbors=3) is 0.00039755875746494895\n",
      "R2 Score for KNeighborsRegressor(n_neighbors=3) is 0.9806716350829805\n",
      "\n",
      "\n",
      "MAE for DecisionTreeRegressor(min_samples_leaf=3) is 0.001684915964363574\n",
      "MSE for DecisionTreeRegressor(min_samples_leaf=3) is 0.000585035569200904\n",
      "R2 Score for DecisionTreeRegressor(min_samples_leaf=3) is 0.9715569566545187\n",
      "\n",
      "\n",
      "MAE for SVR(epsilon=0.2, gamma='auto') is 0.13959297969060694\n",
      "MSE for SVR(epsilon=0.2, gamma='auto') is 0.020823585996455188\n",
      "R2 Score for SVR(epsilon=0.2, gamma='auto') is -0.012393417231935322\n",
      "\n",
      "\n"
     ]
    },
    {
     "name": "stderr",
     "output_type": "stream",
     "text": [
      "C:\\Users\\NehA\\anaconda3\\Lib\\site-packages\\sklearn\\utils\\validation.py:1184: DataConversionWarning: A column-vector y was passed when a 1d array was expected. Please change the shape of y to (n_samples, ), for example using ravel().\n",
      "  y = column_or_1d(y, warn=True)\n",
      "C:\\Users\\NehA\\anaconda3\\Lib\\site-packages\\sklearn\\base.py:1151: DataConversionWarning: A column-vector y was passed when a 1d array was expected. Please change the shape of y to (n_samples,), for example using ravel().\n",
      "  return fit_method(estimator, *args, **kwargs)\n"
     ]
    },
    {
     "name": "stdout",
     "output_type": "stream",
     "text": [
      "MAE for RandomForestRegressor() is 0.0004200532502029479\n",
      "MSE for RandomForestRegressor() is 8.770420687834433e-05\n",
      "R2 Score for RandomForestRegressor() is 0.9957360292448045\n",
      "\n",
      "\n"
     ]
    }
   ],
   "source": [
    "models = [lr, knn, dt, svr, rf]\n",
    "\n",
    "for model in models:\n",
    "    model.fit(X_train, y_train)\n",
    "    y_pred = model.predict(X_train)\n",
    "    print(f\"MAE for {model} is {mean_absolute_error(y_train, y_pred)}\")\n",
    "    print(f\"MSE for {model} is {mean_squared_error(y_train, y_pred)}\")\n",
    "    print(f\"R2 Score for {model} is {r2_score(y_train, y_pred)}\")\n",
    "    \n",
    "    \n",
    "    print('\\n')"
   ]
  },
  {
   "cell_type": "markdown",
   "id": "fe04ccab",
   "metadata": {},
   "source": [
    "# Building dataframe to compare MAE, MSE, R2 SCORE of all models"
   ]
  },
  {
   "cell_type": "code",
   "execution_count": 116,
   "id": "91a72883",
   "metadata": {},
   "outputs": [
    {
     "name": "stderr",
     "output_type": "stream",
     "text": [
      "C:\\Users\\NehA\\anaconda3\\Lib\\site-packages\\sklearn\\utils\\validation.py:1184: DataConversionWarning: A column-vector y was passed when a 1d array was expected. Please change the shape of y to (n_samples, ), for example using ravel().\n",
      "  y = column_or_1d(y, warn=True)\n",
      "C:\\Users\\NehA\\anaconda3\\Lib\\site-packages\\sklearn\\base.py:1151: DataConversionWarning: A column-vector y was passed when a 1d array was expected. Please change the shape of y to (n_samples,), for example using ravel().\n",
      "  return fit_method(estimator, *args, **kwargs)\n",
      "C:\\Users\\NehA\\anaconda3\\Lib\\site-packages\\sklearn\\base.py:1151: DataConversionWarning: A column-vector y was passed when a 1d array was expected. Please change the shape of y to (n_samples,), for example using ravel().\n",
      "  return fit_method(estimator, *args, **kwargs)\n"
     ]
    }
   ],
   "source": [
    "models = [lr, knn, dt, svr, rf, xgb, etr]\n",
    "data = []\n",
    "algos = ['LR' , 'KNN', 'DT', 'SVR', 'RF', 'XGB', 'ETR']\n",
    "i = 0\n",
    "\n",
    "for model in models:\n",
    "    model.fit(X_train, y_train)\n",
    "    y_pred = model.predict(X_train)\n",
    "    data.append([algos[i], mean_squared_error(y_train, y_pred), mean_absolute_error(y_train, y_pred), r2_score(y_train, y_pred)])\n",
    "    i+=1\n",
    "\n",
    "    \n",
    "accuracy = pd.DataFrame(data, columns=['Algo', 'MSE', 'MAE', 'R2'])"
   ]
  },
  {
   "cell_type": "code",
   "execution_count": 117,
   "id": "f5b834ef",
   "metadata": {
    "scrolled": true
   },
   "outputs": [
    {
     "data": {
      "text/html": [
       "<div>\n",
       "<style scoped>\n",
       "    .dataframe tbody tr th:only-of-type {\n",
       "        vertical-align: middle;\n",
       "    }\n",
       "\n",
       "    .dataframe tbody tr th {\n",
       "        vertical-align: top;\n",
       "    }\n",
       "\n",
       "    .dataframe thead th {\n",
       "        text-align: right;\n",
       "    }\n",
       "</style>\n",
       "<table border=\"1\" class=\"dataframe\">\n",
       "  <thead>\n",
       "    <tr style=\"text-align: right;\">\n",
       "      <th></th>\n",
       "      <th>Algo</th>\n",
       "      <th>MSE</th>\n",
       "      <th>MAE</th>\n",
       "      <th>R2</th>\n",
       "    </tr>\n",
       "  </thead>\n",
       "  <tbody>\n",
       "    <tr>\n",
       "      <th>6</th>\n",
       "      <td>ETR</td>\n",
       "      <td>3.287337e-18</td>\n",
       "      <td>4.235643e-10</td>\n",
       "      <td>1.000000</td>\n",
       "    </tr>\n",
       "    <tr>\n",
       "      <th>5</th>\n",
       "      <td>XGB</td>\n",
       "      <td>5.883171e-07</td>\n",
       "      <td>4.247098e-04</td>\n",
       "      <td>0.999971</td>\n",
       "    </tr>\n",
       "    <tr>\n",
       "      <th>4</th>\n",
       "      <td>RF</td>\n",
       "      <td>1.389581e-04</td>\n",
       "      <td>5.088937e-04</td>\n",
       "      <td>0.993244</td>\n",
       "    </tr>\n",
       "    <tr>\n",
       "      <th>1</th>\n",
       "      <td>KNN</td>\n",
       "      <td>3.975588e-04</td>\n",
       "      <td>7.480563e-04</td>\n",
       "      <td>0.980672</td>\n",
       "    </tr>\n",
       "    <tr>\n",
       "      <th>2</th>\n",
       "      <td>DT</td>\n",
       "      <td>5.850356e-04</td>\n",
       "      <td>1.684916e-03</td>\n",
       "      <td>0.971557</td>\n",
       "    </tr>\n",
       "    <tr>\n",
       "      <th>0</th>\n",
       "      <td>LR</td>\n",
       "      <td>1.841094e-02</td>\n",
       "      <td>7.075044e-02</td>\n",
       "      <td>0.104904</td>\n",
       "    </tr>\n",
       "    <tr>\n",
       "      <th>3</th>\n",
       "      <td>SVR</td>\n",
       "      <td>2.082359e-02</td>\n",
       "      <td>1.395930e-01</td>\n",
       "      <td>-0.012393</td>\n",
       "    </tr>\n",
       "  </tbody>\n",
       "</table>\n",
       "</div>"
      ],
      "text/plain": [
       "  Algo           MSE           MAE        R2\n",
       "6  ETR  3.287337e-18  4.235643e-10  1.000000\n",
       "5  XGB  5.883171e-07  4.247098e-04  0.999971\n",
       "4   RF  1.389581e-04  5.088937e-04  0.993244\n",
       "1  KNN  3.975588e-04  7.480563e-04  0.980672\n",
       "2   DT  5.850356e-04  1.684916e-03  0.971557\n",
       "0   LR  1.841094e-02  7.075044e-02  0.104904\n",
       "3  SVR  2.082359e-02  1.395930e-01 -0.012393"
      ]
     },
     "execution_count": 117,
     "metadata": {},
     "output_type": "execute_result"
    }
   ],
   "source": [
    "accuracy.sort_values(by='MAE')"
   ]
  },
  {
   "cell_type": "code",
   "execution_count": 122,
   "id": "37016b57",
   "metadata": {},
   "outputs": [
    {
     "data": {
      "text/html": [
       "<div>\n",
       "<style scoped>\n",
       "    .dataframe tbody tr th:only-of-type {\n",
       "        vertical-align: middle;\n",
       "    }\n",
       "\n",
       "    .dataframe tbody tr th {\n",
       "        vertical-align: top;\n",
       "    }\n",
       "\n",
       "    .dataframe thead th {\n",
       "        text-align: right;\n",
       "    }\n",
       "</style>\n",
       "<table border=\"1\" class=\"dataframe\">\n",
       "  <thead>\n",
       "    <tr style=\"text-align: right;\">\n",
       "      <th></th>\n",
       "      <th>Algo</th>\n",
       "      <th>MSE</th>\n",
       "      <th>MAE</th>\n",
       "      <th>R2</th>\n",
       "    </tr>\n",
       "  </thead>\n",
       "  <tbody>\n",
       "    <tr>\n",
       "      <th>3</th>\n",
       "      <td>SVR</td>\n",
       "      <td>2.082359e-02</td>\n",
       "      <td>1.395930e-01</td>\n",
       "      <td>-0.012393</td>\n",
       "    </tr>\n",
       "    <tr>\n",
       "      <th>0</th>\n",
       "      <td>LR</td>\n",
       "      <td>1.841094e-02</td>\n",
       "      <td>7.075044e-02</td>\n",
       "      <td>0.104904</td>\n",
       "    </tr>\n",
       "    <tr>\n",
       "      <th>2</th>\n",
       "      <td>DT</td>\n",
       "      <td>5.850356e-04</td>\n",
       "      <td>1.684916e-03</td>\n",
       "      <td>0.971557</td>\n",
       "    </tr>\n",
       "    <tr>\n",
       "      <th>1</th>\n",
       "      <td>KNN</td>\n",
       "      <td>3.975588e-04</td>\n",
       "      <td>7.480563e-04</td>\n",
       "      <td>0.980672</td>\n",
       "    </tr>\n",
       "    <tr>\n",
       "      <th>4</th>\n",
       "      <td>RF</td>\n",
       "      <td>1.389581e-04</td>\n",
       "      <td>5.088937e-04</td>\n",
       "      <td>0.993244</td>\n",
       "    </tr>\n",
       "    <tr>\n",
       "      <th>5</th>\n",
       "      <td>XGB</td>\n",
       "      <td>5.883171e-07</td>\n",
       "      <td>4.247098e-04</td>\n",
       "      <td>0.999971</td>\n",
       "    </tr>\n",
       "    <tr>\n",
       "      <th>6</th>\n",
       "      <td>ETR</td>\n",
       "      <td>3.287337e-18</td>\n",
       "      <td>4.235643e-10</td>\n",
       "      <td>1.000000</td>\n",
       "    </tr>\n",
       "  </tbody>\n",
       "</table>\n",
       "</div>"
      ],
      "text/plain": [
       "  Algo           MSE           MAE        R2\n",
       "3  SVR  2.082359e-02  1.395930e-01 -0.012393\n",
       "0   LR  1.841094e-02  7.075044e-02  0.104904\n",
       "2   DT  5.850356e-04  1.684916e-03  0.971557\n",
       "1  KNN  3.975588e-04  7.480563e-04  0.980672\n",
       "4   RF  1.389581e-04  5.088937e-04  0.993244\n",
       "5  XGB  5.883171e-07  4.247098e-04  0.999971\n",
       "6  ETR  3.287337e-18  4.235643e-10  1.000000"
      ]
     },
     "execution_count": 122,
     "metadata": {},
     "output_type": "execute_result"
    }
   ],
   "source": [
    "accuracy.sort_values(by='R2')"
   ]
  },
  {
   "cell_type": "code",
   "execution_count": null,
   "id": "5190db43",
   "metadata": {},
   "outputs": [],
   "source": []
  }
 ],
 "metadata": {
  "kernelspec": {
   "display_name": "Python 3 (ipykernel)",
   "language": "python",
   "name": "python3"
  },
  "language_info": {
   "codemirror_mode": {
    "name": "ipython",
    "version": 3
   },
   "file_extension": ".py",
   "mimetype": "text/x-python",
   "name": "python",
   "nbconvert_exporter": "python",
   "pygments_lexer": "ipython3",
   "version": "3.11.5"
  }
 },
 "nbformat": 4,
 "nbformat_minor": 5
}
