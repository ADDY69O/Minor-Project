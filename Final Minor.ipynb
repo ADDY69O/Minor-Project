{
 "cells": [
  {
   "cell_type": "code",
   "execution_count": 1,
   "id": "e2b3168d",
   "metadata": {},
   "outputs": [],
   "source": [
    "# Importing Libraries"
   ]
  },
  {
   "cell_type": "code",
   "execution_count": 2,
   "id": "9999166d",
   "metadata": {},
   "outputs": [],
   "source": [
    "import pandas as pd\n",
    "import numpy as np\n",
    "import matplotlib.pyplot as plt\n",
    "from sklearn.impute import SimpleImputer\n",
    "from sklearn.preprocessing import OneHotEncoder, LabelEncoder\n",
    "import tensorflow as tf\n",
    "from tensorflow.keras import Model\n",
    "from tensorflow.keras import Sequential\n",
    "from tensorflow.keras.optimizers import Adam\n",
    "from sklearn.preprocessing import StandardScaler\n",
    "from tensorflow.keras.layers import Dense, Dropout"
   ]
  },
  {
   "cell_type": "code",
   "execution_count": 3,
   "id": "f4e906fa",
   "metadata": {},
   "outputs": [],
   "source": [
    "# The description column was a textual column which is converted into \n",
    "# numerical format by taking mean of all the word embeddings in a single entry"
   ]
  },
  {
   "cell_type": "code",
   "execution_count": 4,
   "id": "8da78724",
   "metadata": {},
   "outputs": [
    {
     "data": {
      "text/html": [
       "<div>\n",
       "<style scoped>\n",
       "    .dataframe tbody tr th:only-of-type {\n",
       "        vertical-align: middle;\n",
       "    }\n",
       "\n",
       "    .dataframe tbody tr th {\n",
       "        vertical-align: top;\n",
       "    }\n",
       "\n",
       "    .dataframe thead th {\n",
       "        text-align: right;\n",
       "    }\n",
       "</style>\n",
       "<table border=\"1\" class=\"dataframe\">\n",
       "  <thead>\n",
       "    <tr style=\"text-align: right;\">\n",
       "      <th></th>\n",
       "      <th>Unnamed: 0.1</th>\n",
       "      <th>Unnamed: 0</th>\n",
       "      <th>Budget Forecast</th>\n",
       "      <th>Total Budget Changes</th>\n",
       "      <th>Total Schedule Changes</th>\n",
       "      <th>Description</th>\n",
       "    </tr>\n",
       "  </thead>\n",
       "  <tbody>\n",
       "    <tr>\n",
       "      <th>0</th>\n",
       "      <td>0</td>\n",
       "      <td>0</td>\n",
       "      <td>35874000.0</td>\n",
       "      <td>493000.0</td>\n",
       "      <td>389.0</td>\n",
       "      <td>-0.005902</td>\n",
       "    </tr>\n",
       "    <tr>\n",
       "      <th>1</th>\n",
       "      <td>1</td>\n",
       "      <td>1</td>\n",
       "      <td>41820000.0</td>\n",
       "      <td>-30000.0</td>\n",
       "      <td>0.0</td>\n",
       "      <td>-0.005730</td>\n",
       "    </tr>\n",
       "    <tr>\n",
       "      <th>2</th>\n",
       "      <td>2</td>\n",
       "      <td>2</td>\n",
       "      <td>56876000.0</td>\n",
       "      <td>370000.0</td>\n",
       "      <td>134.0</td>\n",
       "      <td>-0.001961</td>\n",
       "    </tr>\n",
       "    <tr>\n",
       "      <th>3</th>\n",
       "      <td>3</td>\n",
       "      <td>3</td>\n",
       "      <td>284865000.0</td>\n",
       "      <td>3365000.0</td>\n",
       "      <td>328.0</td>\n",
       "      <td>-0.007788</td>\n",
       "    </tr>\n",
       "    <tr>\n",
       "      <th>4</th>\n",
       "      <td>4</td>\n",
       "      <td>4</td>\n",
       "      <td>55026000.0</td>\n",
       "      <td>13699000.0</td>\n",
       "      <td>29.0</td>\n",
       "      <td>-0.003543</td>\n",
       "    </tr>\n",
       "  </tbody>\n",
       "</table>\n",
       "</div>"
      ],
      "text/plain": [
       "   Unnamed: 0.1  Unnamed: 0  Budget Forecast  Total Budget Changes  \\\n",
       "0             0           0       35874000.0              493000.0   \n",
       "1             1           1       41820000.0              -30000.0   \n",
       "2             2           2       56876000.0              370000.0   \n",
       "3             3           3      284865000.0             3365000.0   \n",
       "4             4           4       55026000.0            13699000.0   \n",
       "\n",
       "   Total Schedule Changes  Description  \n",
       "0                   389.0    -0.005902  \n",
       "1                     0.0    -0.005730  \n",
       "2                   134.0    -0.001961  \n",
       "3                   328.0    -0.007788  \n",
       "4                    29.0    -0.003543  "
      ]
     },
     "execution_count": 4,
     "metadata": {},
     "output_type": "execute_result"
    }
   ],
   "source": [
    "df = pd.read_csv('Final Dataset')\n",
    "df.head()\n"
   ]
  },
  {
   "cell_type": "code",
   "execution_count": 5,
   "id": "34480d83",
   "metadata": {},
   "outputs": [],
   "source": [
    "df.drop(columns=['Unnamed: 0.1', 'Unnamed: 0'], inplace=True)"
   ]
  },
  {
   "cell_type": "code",
   "execution_count": 6,
   "id": "92ee6674",
   "metadata": {},
   "outputs": [],
   "source": [
    "df.drop_duplicates(inplace=True)"
   ]
  },
  {
   "cell_type": "markdown",
   "id": "adcaed0d",
   "metadata": {},
   "source": [
    "# Normalising the data"
   ]
  },
  {
   "cell_type": "code",
   "execution_count": 7,
   "id": "a15e5626",
   "metadata": {},
   "outputs": [
    {
     "data": {
      "text/plain": [
       "\"from sklearn.preprocessing import Normalizer\\nnorm = Normalizer()\\ndf = norm.fit_transform(df)\\ndf = pd.DataFrame(df, columns= ['Budget Forecast', 'Total Budget Changes', 'Total Schedule Changes', 'Description Embedding'])\\ndf.head()\""
      ]
     },
     "execution_count": 7,
     "metadata": {},
     "output_type": "execute_result"
    }
   ],
   "source": [
    "\"\"\"from sklearn.preprocessing import Normalizer\n",
    "norm = Normalizer()\n",
    "df = norm.fit_transform(df)\n",
    "df = pd.DataFrame(df, columns= ['Budget Forecast', 'Total Budget Changes', 'Total Schedule Changes', 'Description Embedding'])\n",
    "df.head()\"\"\""
   ]
  },
  {
   "cell_type": "code",
   "execution_count": 8,
   "id": "0e1c45f3",
   "metadata": {
    "scrolled": false
   },
   "outputs": [
    {
     "data": {
      "text/html": [
       "<div>\n",
       "<style scoped>\n",
       "    .dataframe tbody tr th:only-of-type {\n",
       "        vertical-align: middle;\n",
       "    }\n",
       "\n",
       "    .dataframe tbody tr th {\n",
       "        vertical-align: top;\n",
       "    }\n",
       "\n",
       "    .dataframe thead th {\n",
       "        text-align: right;\n",
       "    }\n",
       "</style>\n",
       "<table border=\"1\" class=\"dataframe\">\n",
       "  <thead>\n",
       "    <tr style=\"text-align: right;\">\n",
       "      <th></th>\n",
       "      <th>Budget Forecast</th>\n",
       "      <th>Total Budget Changes</th>\n",
       "      <th>Total Schedule Changes</th>\n",
       "      <th>Description Embedding</th>\n",
       "    </tr>\n",
       "  </thead>\n",
       "  <tbody>\n",
       "    <tr>\n",
       "      <th>0</th>\n",
       "      <td>0.017152</td>\n",
       "      <td>0.322075</td>\n",
       "      <td>0.255512</td>\n",
       "      <td>0.256364</td>\n",
       "    </tr>\n",
       "    <tr>\n",
       "      <th>1</th>\n",
       "      <td>0.019703</td>\n",
       "      <td>0.321673</td>\n",
       "      <td>0.165236</td>\n",
       "      <td>0.258221</td>\n",
       "    </tr>\n",
       "    <tr>\n",
       "      <th>2</th>\n",
       "      <td>0.026163</td>\n",
       "      <td>0.321981</td>\n",
       "      <td>0.196333</td>\n",
       "      <td>0.298994</td>\n",
       "    </tr>\n",
       "    <tr>\n",
       "      <th>3</th>\n",
       "      <td>0.123983</td>\n",
       "      <td>0.324285</td>\n",
       "      <td>0.241355</td>\n",
       "      <td>0.235957</td>\n",
       "    </tr>\n",
       "    <tr>\n",
       "      <th>4</th>\n",
       "      <td>0.025369</td>\n",
       "      <td>0.332234</td>\n",
       "      <td>0.171966</td>\n",
       "      <td>0.281878</td>\n",
       "    </tr>\n",
       "  </tbody>\n",
       "</table>\n",
       "</div>"
      ],
      "text/plain": [
       "   Budget Forecast  Total Budget Changes  Total Schedule Changes  \\\n",
       "0         0.017152              0.322075                0.255512   \n",
       "1         0.019703              0.321673                0.165236   \n",
       "2         0.026163              0.321981                0.196333   \n",
       "3         0.123983              0.324285                0.241355   \n",
       "4         0.025369              0.332234                0.171966   \n",
       "\n",
       "   Description Embedding  \n",
       "0               0.256364  \n",
       "1               0.258221  \n",
       "2               0.298994  \n",
       "3               0.235957  \n",
       "4               0.281878  "
      ]
     },
     "execution_count": 8,
     "metadata": {},
     "output_type": "execute_result"
    }
   ],
   "source": [
    "from sklearn.preprocessing import  MinMaxScaler\n",
    "scaler = MinMaxScaler()\n",
    "df = scaler.fit_transform(df)\n",
    "df = pd.DataFrame(df, columns= ['Budget Forecast', 'Total Budget Changes', 'Total Schedule Changes', 'Description Embedding'])\n",
    "df.head()"
   ]
  },
  {
   "cell_type": "code",
   "execution_count": 9,
   "id": "597eb2a1",
   "metadata": {},
   "outputs": [
    {
     "data": {
      "text/plain": [
       "dtype('float64')"
      ]
     },
     "execution_count": 9,
     "metadata": {},
     "output_type": "execute_result"
    }
   ],
   "source": [
    "df['Budget Forecast'].describe().dtype"
   ]
  },
  {
   "cell_type": "markdown",
   "id": "c24b73be",
   "metadata": {},
   "source": [
    "# Splitting the data into train n testing data"
   ]
  },
  {
   "cell_type": "code",
   "execution_count": 10,
   "id": "614deebb",
   "metadata": {},
   "outputs": [],
   "source": [
    "x = df.drop(columns = 'Budget Forecast')\n",
    "y = df['Budget Forecast']"
   ]
  },
  {
   "cell_type": "code",
   "execution_count": 11,
   "id": "3ac01d44",
   "metadata": {},
   "outputs": [
    {
     "name": "stdout",
     "output_type": "stream",
     "text": [
      "(2840, 3)\n",
      "(2840,)\n"
     ]
    },
    {
     "data": {
      "text/plain": [
       "(None, None)"
      ]
     },
     "execution_count": 11,
     "metadata": {},
     "output_type": "execute_result"
    }
   ],
   "source": [
    "print(x.shape), print(y.shape)"
   ]
  },
  {
   "cell_type": "code",
   "execution_count": 12,
   "id": "11d3c5af",
   "metadata": {},
   "outputs": [
    {
     "name": "stdout",
     "output_type": "stream",
     "text": [
      "(2840, 1)\n"
     ]
    }
   ],
   "source": [
    "y = np.reshape(y, (-1,1))\n",
    "print(y.shape)"
   ]
  },
  {
   "cell_type": "code",
   "execution_count": 13,
   "id": "2ea56368",
   "metadata": {},
   "outputs": [],
   "source": [
    "from sklearn.model_selection import train_test_split \n",
    "X_train, X_test, y_train, y_test = train_test_split(x,y ,\n",
    "                                   random_state=104, \n",
    "                                   test_size=0.3, \n",
    "                                   shuffle=True)"
   ]
  },
  {
   "cell_type": "code",
   "execution_count": 14,
   "id": "c711e8be",
   "metadata": {},
   "outputs": [],
   "source": [
    "#Test size is 30% "
   ]
  },
  {
   "cell_type": "code",
   "execution_count": 15,
   "id": "6c3daab2",
   "metadata": {},
   "outputs": [],
   "source": [
    "from sklearn.linear_model import LinearRegression\n",
    "from sklearn.neighbors import KNeighborsRegressor\n",
    "from sklearn.tree import DecisionTreeRegressor\n",
    "from sklearn.svm import SVR\n",
    "from sklearn.ensemble import RandomForestRegressor\n",
    "from sklearn.ensemble import ExtraTreesRegressor\n",
    "from sklearn.ensemble import AdaBoostRegressor\n",
    "from sklearn.metrics import mean_absolute_error, mean_squared_error,r2_score\n",
    "from xgboost import XGBRegressor\n",
    "\n",
    "lr = LinearRegression()\n",
    "knn = KNeighborsRegressor(n_neighbors=3, leaf_size=30)\n",
    "dt = DecisionTreeRegressor(min_samples_leaf=3)\n",
    "svr = SVR(degree=3, kernel='rbf', gamma='auto', epsilon=0.2)\n",
    "rf = RandomForestRegressor()\n",
    "abr = AdaBoostRegressor(n_estimators=50, random_state=2)\n",
    "xgb = XGBRegressor(n_estimators=45)\n",
    "etr = ExtraTreesRegressor(n_estimators=50, random_state=2)\n"
   ]
  },
  {
   "cell_type": "markdown",
   "id": "cd163d53",
   "metadata": {},
   "source": [
    "# Fitting training data into each model"
   ]
  },
  {
   "cell_type": "code",
   "execution_count": 16,
   "id": "dd256fb9",
   "metadata": {},
   "outputs": [],
   "source": [
    "# Using ML aglorithms:\n",
    "\n",
    "#Linear Regression\n",
    "#K Nearest neighbours\n",
    "#Decision Tree\n",
    "#Support Vector Machine\n",
    "#Random Forest\n",
    "#Artificial Neural Network\n",
    "#XG Boost\n",
    "# Extra tree regressor"
   ]
  },
  {
   "cell_type": "code",
   "execution_count": 17,
   "id": "bd647855",
   "metadata": {},
   "outputs": [],
   "source": [
    "# Metrics used:\n",
    "# Mean Squared Error\n",
    "# Mean absolute error\n",
    "# R2 Score"
   ]
  },
  {
   "cell_type": "code",
   "execution_count": 18,
   "id": "daee6370",
   "metadata": {
    "scrolled": true
   },
   "outputs": [
    {
     "name": "stdout",
     "output_type": "stream",
     "text": [
      "MAE for LinearRegression() is 0.04764652594914497\n",
      "MSE for LinearRegression() is 0.008943230043749244\n",
      "R2 Score for LinearRegression() is 0.21371530932678107\n",
      "RMSE for LinearRegression() is 0.09456865254273873\n",
      "\n",
      "\n",
      "MAE for KNeighborsRegressor(n_neighbors=3) is 0.02235097104676277\n",
      "MSE for KNeighborsRegressor(n_neighbors=3) is 0.0024078210114488936\n",
      "R2 Score for KNeighborsRegressor(n_neighbors=3) is 0.7883054791253166\n",
      "RMSE for KNeighborsRegressor(n_neighbors=3) is 0.04906955279446608\n",
      "\n",
      "\n",
      "MAE for DecisionTreeRegressor(min_samples_leaf=3) is 0.009581624175253586\n",
      "MSE for DecisionTreeRegressor(min_samples_leaf=3) is 0.0006688832607575194\n",
      "R2 Score for DecisionTreeRegressor(min_samples_leaf=3) is 0.9411920899710263\n",
      "RMSE for DecisionTreeRegressor(min_samples_leaf=3) is 0.025862777514364527\n",
      "\n",
      "\n",
      "MAE for SVR(epsilon=0.2, gamma='auto') is 0.16207439889973396\n",
      "MSE for SVR(epsilon=0.2, gamma='auto') is 0.02948762204701501\n",
      "R2 Score for SVR(epsilon=0.2, gamma='auto') is -1.5925382290855095\n",
      "RMSE for SVR(epsilon=0.2, gamma='auto') is 0.171719602978271\n",
      "\n",
      "\n"
     ]
    },
    {
     "name": "stderr",
     "output_type": "stream",
     "text": [
      "C:\\Users\\NehA\\anaconda3\\Lib\\site-packages\\sklearn\\utils\\validation.py:1184: DataConversionWarning: A column-vector y was passed when a 1d array was expected. Please change the shape of y to (n_samples, ), for example using ravel().\n",
      "  y = column_or_1d(y, warn=True)\n",
      "C:\\Users\\NehA\\anaconda3\\Lib\\site-packages\\sklearn\\base.py:1151: DataConversionWarning: A column-vector y was passed when a 1d array was expected. Please change the shape of y to (n_samples,), for example using ravel().\n",
      "  return fit_method(estimator, *args, **kwargs)\n"
     ]
    },
    {
     "name": "stdout",
     "output_type": "stream",
     "text": [
      "MAE for RandomForestRegressor() is 0.006398016146247989\n",
      "MSE for RandomForestRegressor() is 0.00021775869441420344\n",
      "R2 Score for RandomForestRegressor() is 0.9808547552907299\n",
      "RMSE for RandomForestRegressor() is 0.014756649159419743\n",
      "\n",
      "\n"
     ]
    }
   ],
   "source": [
    "models = [lr, knn, dt, svr, rf]\n",
    "\n",
    "for model in models:\n",
    "    model.fit(X_train, y_train)\n",
    "    y_pred = model.predict(X_train)\n",
    "    print(f\"MAE for {model} is {mean_absolute_error(y_train, y_pred)}\")\n",
    "    print(f\"MSE for {model} is {mean_squared_error(y_train, y_pred)}\")\n",
    "    print(f\"R2 Score for {model} is {r2_score(y_train, y_pred)}\")\n",
    "    print(f\"RMSE for {model} is {mean_squared_error(y_train, y_pred, squared=False)}\")\n",
    "    \n",
    "    \n",
    "    print('\\n')"
   ]
  },
  {
   "cell_type": "markdown",
   "id": "edba67da",
   "metadata": {},
   "source": [
    "# Building dataframe to compare MAE, MSE, R2 SCORE of all models"
   ]
  },
  {
   "cell_type": "code",
   "execution_count": 19,
   "id": "91a72883",
   "metadata": {},
   "outputs": [
    {
     "name": "stderr",
     "output_type": "stream",
     "text": [
      "C:\\Users\\NehA\\anaconda3\\Lib\\site-packages\\sklearn\\utils\\validation.py:1184: DataConversionWarning: A column-vector y was passed when a 1d array was expected. Please change the shape of y to (n_samples, ), for example using ravel().\n",
      "  y = column_or_1d(y, warn=True)\n",
      "C:\\Users\\NehA\\anaconda3\\Lib\\site-packages\\sklearn\\base.py:1151: DataConversionWarning: A column-vector y was passed when a 1d array was expected. Please change the shape of y to (n_samples,), for example using ravel().\n",
      "  return fit_method(estimator, *args, **kwargs)\n",
      "C:\\Users\\NehA\\anaconda3\\Lib\\site-packages\\sklearn\\base.py:1151: DataConversionWarning: A column-vector y was passed when a 1d array was expected. Please change the shape of y to (n_samples,), for example using ravel().\n",
      "  return fit_method(estimator, *args, **kwargs)\n",
      "C:\\Users\\NehA\\anaconda3\\Lib\\site-packages\\sklearn\\utils\\validation.py:1184: DataConversionWarning: A column-vector y was passed when a 1d array was expected. Please change the shape of y to (n_samples, ), for example using ravel().\n",
      "  y = column_or_1d(y, warn=True)\n"
     ]
    }
   ],
   "source": [
    "models = [lr, knn, dt, svr, rf, xgb, etr, abr]\n",
    "data = []\n",
    "algos = ['LR' , 'KNN', 'DT', 'SVR', 'RF', 'XGB', 'ETR', 'ABR']\n",
    "i = 0\n",
    "\n",
    "for model in models:\n",
    "    model.fit(X_train, y_train)\n",
    "    y_pred = model.predict(X_train)\n",
    "    data.append([algos[i], mean_squared_error(y_train, y_pred), mean_absolute_error(y_train, y_pred), r2_score(y_train, y_pred), mean_squared_error(y_train, y_pred, squared=False)])\n",
    "    i+=1\n",
    "\n",
    "    \n",
    "accuracy = pd.DataFrame(data, columns=['Algo', 'MSE', 'MAE', 'R2', 'RMSE'])"
   ]
  },
  {
   "cell_type": "code",
   "execution_count": 20,
   "id": "f5b834ef",
   "metadata": {
    "scrolled": true
   },
   "outputs": [
    {
     "data": {
      "text/html": [
       "<div>\n",
       "<style scoped>\n",
       "    .dataframe tbody tr th:only-of-type {\n",
       "        vertical-align: middle;\n",
       "    }\n",
       "\n",
       "    .dataframe tbody tr th {\n",
       "        vertical-align: top;\n",
       "    }\n",
       "\n",
       "    .dataframe thead th {\n",
       "        text-align: right;\n",
       "    }\n",
       "</style>\n",
       "<table border=\"1\" class=\"dataframe\">\n",
       "  <thead>\n",
       "    <tr style=\"text-align: right;\">\n",
       "      <th></th>\n",
       "      <th>Algo</th>\n",
       "      <th>MSE</th>\n",
       "      <th>MAE</th>\n",
       "      <th>R2</th>\n",
       "      <th>RMSE</th>\n",
       "    </tr>\n",
       "  </thead>\n",
       "  <tbody>\n",
       "    <tr>\n",
       "      <th>0</th>\n",
       "      <td>LR</td>\n",
       "      <td>0.008943</td>\n",
       "      <td>0.047647</td>\n",
       "      <td>0.213715</td>\n",
       "      <td>0.094569</td>\n",
       "    </tr>\n",
       "    <tr>\n",
       "      <th>1</th>\n",
       "      <td>KNN</td>\n",
       "      <td>0.002408</td>\n",
       "      <td>0.022351</td>\n",
       "      <td>0.788305</td>\n",
       "      <td>0.049070</td>\n",
       "    </tr>\n",
       "    <tr>\n",
       "      <th>2</th>\n",
       "      <td>DT</td>\n",
       "      <td>0.000669</td>\n",
       "      <td>0.009582</td>\n",
       "      <td>0.941192</td>\n",
       "      <td>0.025863</td>\n",
       "    </tr>\n",
       "    <tr>\n",
       "      <th>3</th>\n",
       "      <td>SVR</td>\n",
       "      <td>0.029488</td>\n",
       "      <td>0.162074</td>\n",
       "      <td>-1.592538</td>\n",
       "      <td>0.171720</td>\n",
       "    </tr>\n",
       "    <tr>\n",
       "      <th>4</th>\n",
       "      <td>RF</td>\n",
       "      <td>0.000231</td>\n",
       "      <td>0.006381</td>\n",
       "      <td>0.979688</td>\n",
       "      <td>0.015200</td>\n",
       "    </tr>\n",
       "    <tr>\n",
       "      <th>5</th>\n",
       "      <td>XGB</td>\n",
       "      <td>0.000386</td>\n",
       "      <td>0.011002</td>\n",
       "      <td>0.966061</td>\n",
       "      <td>0.019648</td>\n",
       "    </tr>\n",
       "    <tr>\n",
       "      <th>6</th>\n",
       "      <td>ETR</td>\n",
       "      <td>0.000002</td>\n",
       "      <td>0.000105</td>\n",
       "      <td>0.999818</td>\n",
       "      <td>0.001440</td>\n",
       "    </tr>\n",
       "    <tr>\n",
       "      <th>7</th>\n",
       "      <td>ABR</td>\n",
       "      <td>0.003777</td>\n",
       "      <td>0.046362</td>\n",
       "      <td>0.667949</td>\n",
       "      <td>0.061455</td>\n",
       "    </tr>\n",
       "  </tbody>\n",
       "</table>\n",
       "</div>"
      ],
      "text/plain": [
       "  Algo       MSE       MAE        R2      RMSE\n",
       "0   LR  0.008943  0.047647  0.213715  0.094569\n",
       "1  KNN  0.002408  0.022351  0.788305  0.049070\n",
       "2   DT  0.000669  0.009582  0.941192  0.025863\n",
       "3  SVR  0.029488  0.162074 -1.592538  0.171720\n",
       "4   RF  0.000231  0.006381  0.979688  0.015200\n",
       "5  XGB  0.000386  0.011002  0.966061  0.019648\n",
       "6  ETR  0.000002  0.000105  0.999818  0.001440\n",
       "7  ABR  0.003777  0.046362  0.667949  0.061455"
      ]
     },
     "execution_count": 20,
     "metadata": {},
     "output_type": "execute_result"
    }
   ],
   "source": [
    "accuracy"
   ]
  },
  {
   "cell_type": "code",
   "execution_count": 21,
   "id": "37016b57",
   "metadata": {},
   "outputs": [
    {
     "data": {
      "text/html": [
       "<div>\n",
       "<style scoped>\n",
       "    .dataframe tbody tr th:only-of-type {\n",
       "        vertical-align: middle;\n",
       "    }\n",
       "\n",
       "    .dataframe tbody tr th {\n",
       "        vertical-align: top;\n",
       "    }\n",
       "\n",
       "    .dataframe thead th {\n",
       "        text-align: right;\n",
       "    }\n",
       "</style>\n",
       "<table border=\"1\" class=\"dataframe\">\n",
       "  <thead>\n",
       "    <tr style=\"text-align: right;\">\n",
       "      <th></th>\n",
       "      <th>Algo</th>\n",
       "      <th>MSE</th>\n",
       "      <th>MAE</th>\n",
       "      <th>R2</th>\n",
       "      <th>RMSE</th>\n",
       "    </tr>\n",
       "  </thead>\n",
       "  <tbody>\n",
       "    <tr>\n",
       "      <th>6</th>\n",
       "      <td>ETR</td>\n",
       "      <td>0.000002</td>\n",
       "      <td>0.000105</td>\n",
       "      <td>0.999818</td>\n",
       "      <td>0.001440</td>\n",
       "    </tr>\n",
       "    <tr>\n",
       "      <th>4</th>\n",
       "      <td>RF</td>\n",
       "      <td>0.000231</td>\n",
       "      <td>0.006381</td>\n",
       "      <td>0.979688</td>\n",
       "      <td>0.015200</td>\n",
       "    </tr>\n",
       "    <tr>\n",
       "      <th>5</th>\n",
       "      <td>XGB</td>\n",
       "      <td>0.000386</td>\n",
       "      <td>0.011002</td>\n",
       "      <td>0.966061</td>\n",
       "      <td>0.019648</td>\n",
       "    </tr>\n",
       "    <tr>\n",
       "      <th>2</th>\n",
       "      <td>DT</td>\n",
       "      <td>0.000669</td>\n",
       "      <td>0.009582</td>\n",
       "      <td>0.941192</td>\n",
       "      <td>0.025863</td>\n",
       "    </tr>\n",
       "    <tr>\n",
       "      <th>1</th>\n",
       "      <td>KNN</td>\n",
       "      <td>0.002408</td>\n",
       "      <td>0.022351</td>\n",
       "      <td>0.788305</td>\n",
       "      <td>0.049070</td>\n",
       "    </tr>\n",
       "    <tr>\n",
       "      <th>7</th>\n",
       "      <td>ABR</td>\n",
       "      <td>0.003777</td>\n",
       "      <td>0.046362</td>\n",
       "      <td>0.667949</td>\n",
       "      <td>0.061455</td>\n",
       "    </tr>\n",
       "    <tr>\n",
       "      <th>0</th>\n",
       "      <td>LR</td>\n",
       "      <td>0.008943</td>\n",
       "      <td>0.047647</td>\n",
       "      <td>0.213715</td>\n",
       "      <td>0.094569</td>\n",
       "    </tr>\n",
       "    <tr>\n",
       "      <th>3</th>\n",
       "      <td>SVR</td>\n",
       "      <td>0.029488</td>\n",
       "      <td>0.162074</td>\n",
       "      <td>-1.592538</td>\n",
       "      <td>0.171720</td>\n",
       "    </tr>\n",
       "  </tbody>\n",
       "</table>\n",
       "</div>"
      ],
      "text/plain": [
       "  Algo       MSE       MAE        R2      RMSE\n",
       "6  ETR  0.000002  0.000105  0.999818  0.001440\n",
       "4   RF  0.000231  0.006381  0.979688  0.015200\n",
       "5  XGB  0.000386  0.011002  0.966061  0.019648\n",
       "2   DT  0.000669  0.009582  0.941192  0.025863\n",
       "1  KNN  0.002408  0.022351  0.788305  0.049070\n",
       "7  ABR  0.003777  0.046362  0.667949  0.061455\n",
       "0   LR  0.008943  0.047647  0.213715  0.094569\n",
       "3  SVR  0.029488  0.162074 -1.592538  0.171720"
      ]
     },
     "execution_count": 21,
     "metadata": {},
     "output_type": "execute_result"
    }
   ],
   "source": [
    "accuracy.sort_values(by='R2', ascending=0)"
   ]
  },
  {
   "cell_type": "code",
   "execution_count": 22,
   "id": "e088348f",
   "metadata": {},
   "outputs": [],
   "source": [
    "import pickle\n",
    "with open('model.pkl', 'wb') as file:\n",
    "    pickle.dump(etr, file)"
   ]
  },
  {
   "cell_type": "code",
   "execution_count": 23,
   "id": "81de58e8",
   "metadata": {},
   "outputs": [],
   "source": [
    "df.to_csv('Cleaned.csv')"
   ]
  },
  {
   "cell_type": "code",
   "execution_count": 24,
   "id": "fcda2aca",
   "metadata": {},
   "outputs": [],
   "source": [
    "y_pred = etr.predict(X_test)"
   ]
  },
  {
   "cell_type": "code",
   "execution_count": 25,
   "id": "75b1c2e0",
   "metadata": {
    "scrolled": true
   },
   "outputs": [
    {
     "data": {
      "text/plain": [
       "<BarContainer object of 8 artists>"
      ]
     },
     "execution_count": 25,
     "metadata": {},
     "output_type": "execute_result"
    },
    {
     "data": {
      "image/png": "[encoded data removed]",
      "text/plain": [
       "<Figure size 1000x800 with 3 Axes>"
      ]
     },
     "metadata": {},
     "output_type": "display_data"
    }
   ],
   "source": [
    "plt.figure(figsize=(10,8))\n",
    "\n",
    "plt.subplot(3,1,1)\n",
    "plt.bar(accuracy['Algo'], accuracy['MAE'])\n",
    "\n",
    "plt.subplot(3,1,2)\n",
    "plt.bar(accuracy['Algo'], accuracy['MSE'])\n",
    "\n",
    "plt.subplot(3,1,3)\n",
    "plt.bar(accuracy['Algo'], accuracy['R2'])"
   ]
  },
  {
   "cell_type": "code",
   "execution_count": 26,
   "id": "f53c865a",
   "metadata": {},
   "outputs": [],
   "source": [
    "accuracy.to_csv('results')"
   ]
  },
  {
   "cell_type": "code",
   "execution_count": 30,
   "id": "db61258d",
   "metadata": {},
   "outputs": [],
   "source": [
    "accuracy.rename(columns={'Algo' : 'Model'}, inplace=True)"
   ]
  }
 ],
 "metadata": {
  "kernelspec": {
   "display_name": "Python 3 (ipykernel)",
   "language": "python",
   "name": "python3"
  },
  "language_info": {
   "codemirror_mode": {
    "name": "ipython",
    "version": 3
   },
   "file_extension": ".py",
   "mimetype": "text/x-python",
   "name": "python",
   "nbconvert_exporter": "python",
   "pygments_lexer": "ipython3",
   "version": "3.11.5"
  }
 },
 "nbformat": 4,
 "nbformat_minor": 5
}
